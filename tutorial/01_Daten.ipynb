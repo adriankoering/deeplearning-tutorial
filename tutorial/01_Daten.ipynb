{
 "cells": [
  {
   "cell_type": "markdown",
   "metadata": {},
   "source": [
    "# Daten\n",
    "\n",
    "Zu Beginn schauen wir uns die Daten an, mit denen wir im folgenden Arbeiten. Im Allgemeinen besteht ein Datensatz aus vielen Beispielen (Example). Jedes Beispiel besteht aus Eingabe und erwarteter Ausgabe. Bei der Bildklassifizierung ist die Eingabe ein Foto, dass ein Objekt zeigt. Als Ausgabe möchten wir berechnen, welches Objekt in dem Foto abgebildet ist.\n",
    "\n",
    "[CIFAR-10](https://www.cs.toronto.edu/~kriz/cifar.html) ist zum Beispiel so ein Datensatz. Es enthält 60000 Bilder, jedes 32x32 Pixel groß und zeigt Objekte die zu zehn Klassen gehören.\n",
    "\n",
    "In diesem Notebook wollen wir uns ein paar dieser Bilder anschauen und lernen wie wir mit Bild-Daten arbeiten."
   ]
  },
  {
   "cell_type": "markdown",
   "metadata": {},
   "source": [
    "## Importiere die verwendeten Software-Module\n",
    "\n",
    "Sollte ein 'import' fehlschlagen steht im Kommentar dahinter, wie du das Modul noch installieren kannst."
   ]
  },
  {
   "cell_type": "code",
   "execution_count": null,
   "metadata": {},
   "outputs": [],
   "source": [
    "import numpy as np               # pip install numpy\n",
    "import tensorflow as tf          # pip install tensorflow\n",
    "import matplotlib.pyplot as plt  # pip install matplotlib"
   ]
  },
  {
   "cell_type": "markdown",
   "metadata": {},
   "source": [
    "## Daten Laden\n",
    "\n",
    "[Keras](https://keras.io/) ist eine nutzerfreundliche Art und Weise mit Neuronalen Netzen zu arbeiten und ist in Tensorflow inkludiert. Keras kann einige häufig verwendete Datensätze selbstständig herunterladen - davon machen wir hier gebrauch:"
   ]
  },
  {
   "cell_type": "code",
   "execution_count": null,
   "metadata": {},
   "outputs": [],
   "source": [
    "from tensorflow.keras.datasets import cifar10\n",
    "(x_train, y_train), (x_test, y_test) = cifar10.load_data()"
   ]
  },
  {
   "cell_type": "markdown",
   "metadata": {},
   "source": [
    "## Daten Inspizieren\n",
    "\n",
    "Es ist eine Konvention, die Eingaben in das Neuronale Netz mit 'x' und die erwarteten Ausgaben mit 'y' zu benennen. Dies orientiert sich an der mathematischen Notation von Funktionen: *y = f(x)*. Des weiteren wurden die Daten ein Trainingsdaten und Testdaten geteilt - auch dies ist Konvetion, mehr dazu später.\n",
    "\n",
    "Wir können uns nun die Trainingsdaten anschauen. Die Daten sind als Numpy-Arrays gespeichert. Numpy-Arrays kennen ihre Länge, Datentyp und über *[]* kann man auf Elemente im Array zugreifen."
   ]
  },
  {
   "cell_type": "code",
   "execution_count": null,
   "metadata": {},
   "outputs": [],
   "source": [
    "print(\"Anzahl der Bilder in den Trainingsdaten: \", x_train.shape[0])\n",
    "print(\"Bildgröße der Trainingsbilder: \", x_train.shape[1:3])\n",
    "print(\"Anzahl der Farbkanäle jedes Bildes: \", x_train.shape[3])\n",
    "print(\"Alles auf einmal: \", x_train.shape)"
   ]
  },
  {
   "cell_type": "markdown",
   "metadata": {},
   "source": [
    "Die Trainingsdaten bestehen aus 50000 Bilder, jedes Bild hat 32x32 Pixel und 3 Farbkanäle (RGB). Auf das erste Bild greift man mit *[]* zu:"
   ]
  },
  {
   "cell_type": "code",
   "execution_count": null,
   "metadata": {},
   "outputs": [],
   "source": [
    "bild = x_train[0]\n",
    "print(\"Dimensionen: \", bild.shape)"
   ]
  },
  {
   "cell_type": "markdown",
   "metadata": {},
   "source": [
    "Indem wir das erste Bild aus den Daten auswählen, erhalten wir ein Array mit 32x32 Pixeln und 3 Farbkanälen. Jeder Pixel in dem Bild hat einen Datentyp (den gleichen Datentyp wie die Trainingsdaten insgesamt):"
   ]
  },
  {
   "cell_type": "code",
   "execution_count": null,
   "metadata": {},
   "outputs": [],
   "source": [
    "print(\"Datentyp des Bildes:\", bild.dtype)\n",
    "print(\"Datentyp der Trainingsdaten\", x_train.dtype)\n",
    "print(\"Wertebereich (kleinster, größter Wert): \", np.iinfo(np.uint8).min, \",\", np.iinfo(np.uint8).max)"
   ]
  },
  {
   "cell_type": "markdown",
   "metadata": {},
   "source": [
    "Das ist für Bilder quasi Standard: jeder Pixel wird als unsigned integer mit 8 bit (uint8) gespeichert. Der kleinste Wert in diesem Datenformat ist 0, der größte 255. Dieses Bild können wir uns jetzt anzeigen lassen:"
   ]
  },
  {
   "cell_type": "code",
   "execution_count": null,
   "metadata": {},
   "outputs": [],
   "source": [
    "plt.imshow(bild)"
   ]
  },
  {
   "cell_type": "markdown",
   "metadata": {},
   "source": [
    "Falls nicht gleich ersichtlich ist, was dieses Bild zeigt, können wir uns die dazu gespeicherte Klasse anschauen"
   ]
  },
  {
   "cell_type": "code",
   "execution_count": null,
   "metadata": {},
   "outputs": [],
   "source": [
    "klasse = y_train[0]\n",
    "print(klasse)"
   ]
  },
  {
   "cell_type": "markdown",
   "metadata": {},
   "source": [
    "Die Klasse ist als Zahl gespeichert. Um herauszufinden, welcher Objekttyp dahinter steckt können wir uns die Dokumentation des Datensatzes anschauen: https://www.cs.toronto.edu/~kriz/cifar.html\n",
    "\n",
    "In der Liste ist die sechste Klasse: frog."
   ]
  },
  {
   "cell_type": "markdown",
   "metadata": {},
   "source": [
    "### ToDo \n",
    "1. Schaue dir noch weitere Bilder aus den Trainingsdaten an. (Tausche die Zahl innerhalb der [])\n",
    "2. Schaue dir auf gleiche Art und Weise die Testdaten an. (Tausche x_train und y_train durch x_test und y_test)\n",
    "3. Caste die Bilder in den Floating Point Datentyp (Hint bild_float = bild.astype(\"float\"))\n",
    "4. Berechne den Durchschnitt [np.mean](https://docs.scipy.org/doc/numpy/reference/generated/numpy.mean.html)\n",
    "5. Erstelle ein 'zentriertes' Bild, indem du den Durschnitt vom Foto subtrahierst.\n",
    "6. Berechne die Standardabweichung des Bildes [np.std](https://docs.scipy.org/doc/numpy/reference/generated/numpy.std.html)\n",
    "7. Erstelle ein 'normalisiertes' Bild, indem du das Bild durch die Standardabweichung teilst\n",
    "8. Teste, ob dein normalisiertes Bild nun einen Durschnitt von Null und eine Standardabweichung von 1 hat."
   ]
  },
  {
   "cell_type": "code",
   "execution_count": null,
   "metadata": {},
   "outputs": [],
   "source": []
  }
 ],
 "metadata": {
  "kernelspec": {
   "display_name": "Python 3",
   "language": "python",
   "name": "python3"
  },
  "language_info": {
   "codemirror_mode": {
    "name": "ipython",
    "version": 3
   },
   "file_extension": ".py",
   "mimetype": "text/x-python",
   "name": "python",
   "nbconvert_exporter": "python",
   "pygments_lexer": "ipython3",
   "version": "3.5.2"
  }
 },
 "nbformat": 4,
 "nbformat_minor": 2
}
